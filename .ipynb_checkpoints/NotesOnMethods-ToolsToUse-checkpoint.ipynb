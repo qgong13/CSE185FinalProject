{
 "cells": [
  {
   "cell_type": "markdown",
   "id": "0cc8f676",
   "metadata": {},
   "source": [
    "### Tools used to generate the data/selected figure:"
   ]
  },
  {
   "cell_type": "markdown",
   "id": "93bf45cb",
   "metadata": {},
   "source": [
    "### Detailed Methods:\n",
    "#### Figure 1e\n",
    "__Tool Detail:__\n",
    "1. Tool Name: ComplexHeatmap\n",
    "    >* ```version```: 2.13.1 \n",
    "    >* ```options```: \n",
    "    ```R\n",
    "    Heatmap(scaled_dPeaks,\n",
    "            name=\"z-score\", row_order=rownames(clusterPeaks),\n",
    "            row_split=group,    \n",
    "            column_order=names(scaled_dPeaks),\n",
    "            column_split=column_category,\n",
    "            column_title=c(\"Normal\", \"Injury\", \"Kras\", \n",
    "                           \"KrasInjury\", \"PDAC\"),\n",
    "            show_row_names = FALSE, show_column_names=FALSE, \n",
    "            width=unit(7.5, \"in\"), height=unit(9, \"in\"),\n",
    "            col=palette,\n",
    "            top_annotation=HeatmapAnnotation(foo = anno_block(gp = gpar(fill = anno_color))))\n",
    "    ```\n",
    "        - direct input, nothing fancy, others are for visualization \n",
    "__Pipeline:__\n"
   ]
  },
  {
   "cell_type": "markdown",
   "id": "1d95f5f4",
   "metadata": {},
   "source": [
    "#### Figure 3f\n",
    "__Tool Detail:__\n",
    "1. Tool Name:\n",
    "    >* ```version```:\n",
    "    >* ```options```:"
   ]
  },
  {
   "cell_type": "markdown",
   "id": "e80a67e3",
   "metadata": {},
   "source": [
    "#### Figure 4e\n",
    "__Tool Detail:__\n",
    "1. Tool Name:\n",
    "    >* ```version```:\n",
    "    >* ```options```:"
   ]
  },
  {
   "cell_type": "markdown",
   "id": "7761ec5c",
   "metadata": {},
   "source": [
    "#### Figure 5a\n",
    "__Tool Detail:__\n",
    "1. Tool Name:\n",
    "    >* ```version```:\n",
    "    >* ```options```:"
   ]
  },
  {
   "cell_type": "markdown",
   "id": "cd06cbf2",
   "metadata": {},
   "source": [
    "#### Figure 5c\n",
    "__Tool Detail:__\n",
    "1. Tool Name:\n",
    "    >* ```version```:\n",
    "    >* ```options```:"
   ]
  }
 ],
 "metadata": {
  "kernelspec": {
   "display_name": "Python 3 (ipykernel)",
   "language": "python",
   "name": "python3"
  },
  "language_info": {
   "codemirror_mode": {
    "name": "ipython",
    "version": 3
   },
   "file_extension": ".py",
   "mimetype": "text/x-python",
   "name": "python",
   "nbconvert_exporter": "python",
   "pygments_lexer": "ipython3",
   "version": "3.8.13"
  }
 },
 "nbformat": 4,
 "nbformat_minor": 5
}
