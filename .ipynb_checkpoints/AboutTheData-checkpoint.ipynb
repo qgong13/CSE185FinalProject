{
 "cells": [
  {
   "cell_type": "markdown",
   "metadata": {},
   "source": [
    "### Description of dataset:\n",
    "Data availability:\n",
    ">* All ATAC-seq, RNA-seq and scATAC-seq data generated in this study have been deposited in the Gene Expression Omnibus (GEO) database under the super-series GSE132330. Publicly available RNA-seq, gene expres- sion microarray and ChIP–seq data reanalyzed for this study are avail- able under the accession codes GSE86262 (PTF1A ChIP–seq), GSE34295 (NR5A2 ChIP–seq), GSE99311 (H3K27ac ChIP–seq), GSE62452 (human specimen gene expression microarray) and GSE71729 (human specimen gene expression microarray) and in the GTRD (https://gtrd.biouml.org). All other data supporting the findings of this study are available from the corresponding author upon reasonable request. Source data are provided with this paper.\n",
    "\n",
    "- Check how \"raw\" the data is, __maybe start with using a somewhat processed data if available (e.g. aligned RNA-seq instead of re-do STAR alignment)__\n",
    "\n",
    "1. Dataset name\n",
    "    >* __Accession number:__\n",
    "    >* __Type of data:__\n",
    "    >* __Format of data:__\n",
    "    >* __Size of data:__"
   ]
  },
  {
   "cell_type": "code",
   "execution_count": null,
   "metadata": {},
   "outputs": [],
   "source": []
  }
 ],
 "metadata": {
  "kernelspec": {
   "display_name": "Python 3",
   "language": "python",
   "name": "python3"
  },
  "language_info": {
   "codemirror_mode": {
    "name": "ipython",
    "version": 3
   },
   "file_extension": ".py",
   "mimetype": "text/x-python",
   "name": "python",
   "nbconvert_exporter": "python",
   "pygments_lexer": "ipython3",
   "version": "3.8.5"
  }
 },
 "nbformat": 4,
 "nbformat_minor": 5
}
