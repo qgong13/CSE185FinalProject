{
 "cells": [
  {
   "cell_type": "markdown",
   "id": "0cc8f676",
   "metadata": {},
   "source": [
    "### Tools used to generate the data/selected figure:\n",
    "\n"
   ]
  },
  {
   "cell_type": "markdown",
   "id": "93bf45cb",
   "metadata": {},
   "source": [
    "### Detailed Methods:\n",
    "#### Tool Detail:\n",
    "1. Tool Name:\n",
    "    >* ```version```:\n",
    "    >* ```options```:"
   ]
  },
  {
   "cell_type": "markdown",
   "id": "0e6c8a1b",
   "metadata": {},
   "source": [
    "### Bioinformatics Pipeline Overview:\n",
    "#### Steps & Tools used in pipeline:\n",
    "Step 1. \n",
    ">*  \n",
    "\n",
    "Step 2. \n",
    ">* \n",
    "    \n",
    "__Tools from class:__\n",
    "\n",
    "__Tools outside of class:__\n"
   ]
  }
 ],
 "metadata": {
  "kernelspec": {
   "display_name": "Python 3 (clean)",
   "language": "python",
   "name": "python3_clean"
  },
  "language_info": {
   "codemirror_mode": {
    "name": "ipython",
    "version": 3
   },
   "file_extension": ".py",
   "mimetype": "text/x-python",
   "name": "python",
   "nbconvert_exporter": "python",
   "pygments_lexer": "ipython3",
   "version": "3.9.5"
  }
 },
 "nbformat": 4,
 "nbformat_minor": 5
}
