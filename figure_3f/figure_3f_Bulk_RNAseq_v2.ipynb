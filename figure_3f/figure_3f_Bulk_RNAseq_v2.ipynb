{
 "cells": [
  {
   "cell_type": "markdown",
   "id": "43971fc9",
   "metadata": {},
   "source": [
    "## Install Packages"
   ]
  },
  {
   "cell_type": "code",
   "execution_count": 1,
   "id": "d1cd5230",
   "metadata": {},
   "outputs": [
    {
     "name": "stderr",
     "output_type": "stream",
     "text": [
      "Installing package into ‘/home/q5gong/R/x86_64-conda-linux-gnu-library/4.1’\n",
      "(as ‘lib’ is unspecified)\n",
      "\n",
      "Installing package into ‘/home/q5gong/R/x86_64-conda-linux-gnu-library/4.1’\n",
      "(as ‘lib’ is unspecified)\n",
      "\n",
      "Warning message in install.packages(\"dplyr\"):\n",
      "“installation of package ‘dplyr’ had non-zero exit status”\n"
     ]
    }
   ],
   "source": [
    "install.packages(\"pheatmap\")\n",
    "install.packages(\"dplyr\")"
   ]
  },
  {
   "cell_type": "markdown",
   "id": "51184b86",
   "metadata": {},
   "source": [
    "## Load Packages"
   ]
  },
  {
   "cell_type": "code",
   "execution_count": 2,
   "id": "142655f3",
   "metadata": {},
   "outputs": [
    {
     "name": "stderr",
     "output_type": "stream",
     "text": [
      "\n",
      "Attaching package: ‘dplyr’\n",
      "\n",
      "\n",
      "The following objects are masked from ‘package:stats’:\n",
      "\n",
      "    filter, lag\n",
      "\n",
      "\n",
      "The following objects are masked from ‘package:base’:\n",
      "\n",
      "    intersect, setdiff, setequal, union\n",
      "\n",
      "\n",
      "Warning message:\n",
      "“package ‘DESeq2’ was built under R version 4.1.2”\n",
      "Loading required package: S4Vectors\n",
      "\n",
      "Warning message:\n",
      "“package ‘S4Vectors’ was built under R version 4.1.2”\n",
      "Loading required package: stats4\n",
      "\n",
      "Loading required package: BiocGenerics\n",
      "\n",
      "Warning message:\n",
      "“package ‘BiocGenerics’ was built under R version 4.1.1”\n",
      "\n",
      "Attaching package: ‘BiocGenerics’\n",
      "\n",
      "\n",
      "The following objects are masked from ‘package:dplyr’:\n",
      "\n",
      "    combine, intersect, setdiff, union\n",
      "\n",
      "\n",
      "The following objects are masked from ‘package:stats’:\n",
      "\n",
      "    IQR, mad, sd, var, xtabs\n",
      "\n",
      "\n",
      "The following objects are masked from ‘package:base’:\n",
      "\n",
      "    anyDuplicated, append, as.data.frame, basename, cbind, colnames,\n",
      "    dirname, do.call, duplicated, eval, evalq, Filter, Find, get, grep,\n",
      "    grepl, intersect, is.unsorted, lapply, Map, mapply, match, mget,\n",
      "    order, paste, pmax, pmax.int, pmin, pmin.int, Position, rank,\n",
      "    rbind, Reduce, rownames, sapply, setdiff, sort, table, tapply,\n",
      "    union, unique, unsplit, which.max, which.min\n",
      "\n",
      "\n",
      "\n",
      "Attaching package: ‘S4Vectors’\n",
      "\n",
      "\n",
      "The following objects are masked from ‘package:dplyr’:\n",
      "\n",
      "    first, rename\n",
      "\n",
      "\n",
      "The following objects are masked from ‘package:base’:\n",
      "\n",
      "    expand.grid, I, unname\n",
      "\n",
      "\n",
      "Loading required package: IRanges\n",
      "\n",
      "Warning message:\n",
      "“package ‘IRanges’ was built under R version 4.1.2”\n",
      "\n",
      "Attaching package: ‘IRanges’\n",
      "\n",
      "\n",
      "The following objects are masked from ‘package:dplyr’:\n",
      "\n",
      "    collapse, desc, slice\n",
      "\n",
      "\n",
      "Loading required package: GenomicRanges\n",
      "\n",
      "Warning message:\n",
      "“package ‘GenomicRanges’ was built under R version 4.1.2”\n",
      "Loading required package: GenomeInfoDb\n",
      "\n",
      "Warning message:\n",
      "“package ‘GenomeInfoDb’ was built under R version 4.1.1”\n",
      "Loading required package: SummarizedExperiment\n",
      "\n",
      "Warning message:\n",
      "“package ‘SummarizedExperiment’ was built under R version 4.1.1”\n",
      "Loading required package: MatrixGenerics\n",
      "\n",
      "Warning message:\n",
      "“package ‘MatrixGenerics’ was built under R version 4.1.1”\n",
      "Loading required package: matrixStats\n",
      "\n",
      "\n",
      "Attaching package: ‘matrixStats’\n",
      "\n",
      "\n",
      "The following object is masked from ‘package:dplyr’:\n",
      "\n",
      "    count\n",
      "\n",
      "\n",
      "\n",
      "Attaching package: ‘MatrixGenerics’\n",
      "\n",
      "\n",
      "The following objects are masked from ‘package:matrixStats’:\n",
      "\n",
      "    colAlls, colAnyNAs, colAnys, colAvgsPerRowSet, colCollapse,\n",
      "    colCounts, colCummaxs, colCummins, colCumprods, colCumsums,\n",
      "    colDiffs, colIQRDiffs, colIQRs, colLogSumExps, colMadDiffs,\n",
      "    colMads, colMaxs, colMeans2, colMedians, colMins, colOrderStats,\n",
      "    colProds, colQuantiles, colRanges, colRanks, colSdDiffs, colSds,\n",
      "    colSums2, colTabulates, colVarDiffs, colVars, colWeightedMads,\n",
      "    colWeightedMeans, colWeightedMedians, colWeightedSds,\n",
      "    colWeightedVars, rowAlls, rowAnyNAs, rowAnys, rowAvgsPerColSet,\n",
      "    rowCollapse, rowCounts, rowCummaxs, rowCummins, rowCumprods,\n",
      "    rowCumsums, rowDiffs, rowIQRDiffs, rowIQRs, rowLogSumExps,\n",
      "    rowMadDiffs, rowMads, rowMaxs, rowMeans2, rowMedians, rowMins,\n",
      "    rowOrderStats, rowProds, rowQuantiles, rowRanges, rowRanks,\n",
      "    rowSdDiffs, rowSds, rowSums2, rowTabulates, rowVarDiffs, rowVars,\n",
      "    rowWeightedMads, rowWeightedMeans, rowWeightedMedians,\n",
      "    rowWeightedSds, rowWeightedVars\n",
      "\n",
      "\n",
      "Loading required package: Biobase\n",
      "\n",
      "Warning message:\n",
      "“package ‘Biobase’ was built under R version 4.1.2”\n",
      "Welcome to Bioconductor\n",
      "\n",
      "    Vignettes contain introductory material; view with\n",
      "    'browseVignettes()'. To cite Bioconductor, see\n",
      "    'citation(\"Biobase\")', and for packages 'citation(\"pkgname\")'.\n",
      "\n",
      "\n",
      "\n",
      "Attaching package: ‘Biobase’\n",
      "\n",
      "\n",
      "The following object is masked from ‘package:MatrixGenerics’:\n",
      "\n",
      "    rowMedians\n",
      "\n",
      "\n",
      "The following objects are masked from ‘package:matrixStats’:\n",
      "\n",
      "    anyMissing, rowMedians\n",
      "\n",
      "\n",
      "========================================\n",
      "circlize version 0.4.15\n",
      "CRAN page: https://cran.r-project.org/package=circlize\n",
      "Github page: https://github.com/jokergoo/circlize\n",
      "Documentation: https://jokergoo.github.io/circlize_book/book/\n",
      "\n",
      "If you use it in published research, please cite:\n",
      "Gu, Z. circlize implements and enhances circular visualization\n",
      "  in R. Bioinformatics 2014.\n",
      "\n",
      "This message can be suppressed by:\n",
      "  suppressPackageStartupMessages(library(circlize))\n",
      "========================================\n",
      "\n",
      "\n"
     ]
    }
   ],
   "source": [
    "library(\"dplyr\")\n",
    "library(\"DESeq2\")\n",
    "library(\"circlize\")\n",
    "library(\"pheatmap\")"
   ]
  },
  {
   "cell_type": "code",
   "execution_count": 3,
   "id": "9acc62b0",
   "metadata": {},
   "outputs": [
    {
     "name": "stdout",
     "output_type": "stream",
     "text": [
      "[1] ‘1.0.12’\n"
     ]
    }
   ],
   "source": [
    "print(packageVersion(\"pheatmap\"))"
   ]
  },
  {
   "cell_type": "markdown",
   "id": "4eab380e",
   "metadata": {},
   "source": [
    "## Load Data and Data Clening"
   ]
  },
  {
   "cell_type": "code",
   "execution_count": 4,
   "id": "de81a93b",
   "metadata": {},
   "outputs": [
    {
     "data": {
      "text/html": [
       "<table class=\"dataframe\">\n",
       "<caption>A data.frame: 6 × 25</caption>\n",
       "<thead>\n",
       "\t<tr><th></th><th scope=col>Normal.shRen.713_RNA1</th><th scope=col>Normal.shRen.713_RNA2</th><th scope=col>Normal.shRen.713_RNA3</th><th scope=col>RegADM.shRen.713_RNA1</th><th scope=col>RegADM.shRen.713_RNA2</th><th scope=col>RegADM.shRen.713_RNA3</th><th scope=col>RegADM.shBrd4.1448_RNA1</th><th scope=col>RegADM.shBrd4.1448_RNA2</th><th scope=col>RegADM.shBrd4.1448_RNA3</th><th scope=col>Kras.ADR.shRen.713_RNA1</th><th scope=col>⋯</th><th scope=col>Kras.ADR.shBrd4.552_RNA1</th><th scope=col>Kras.ADR.shBrd4.552_RNA2</th><th scope=col>Kras.ADR.shBrd4.552_RNA3</th><th scope=col>Gene_name</th><th scope=col>chromosome_name</th><th scope=col>start_position</th><th scope=col>end_position</th><th scope=col>transcript_length</th><th scope=col>Strand</th><th scope=col>Karyotype_band</th></tr>\n",
       "\t<tr><th></th><th scope=col>&lt;int&gt;</th><th scope=col>&lt;int&gt;</th><th scope=col>&lt;int&gt;</th><th scope=col>&lt;int&gt;</th><th scope=col>&lt;int&gt;</th><th scope=col>&lt;int&gt;</th><th scope=col>&lt;int&gt;</th><th scope=col>&lt;int&gt;</th><th scope=col>&lt;int&gt;</th><th scope=col>&lt;int&gt;</th><th scope=col>⋯</th><th scope=col>&lt;int&gt;</th><th scope=col>&lt;int&gt;</th><th scope=col>&lt;int&gt;</th><th scope=col>&lt;chr&gt;</th><th scope=col>&lt;chr&gt;</th><th scope=col>&lt;int&gt;</th><th scope=col>&lt;int&gt;</th><th scope=col>&lt;int&gt;</th><th scope=col>&lt;chr&gt;</th><th scope=col>&lt;chr&gt;</th></tr>\n",
       "</thead>\n",
       "<tbody>\n",
       "\t<tr><th scope=row>ENSMUSG00000000001</th><td>337</td><td>246</td><td>262</td><td>1359</td><td>1063</td><td>668</td><td>1213</td><td>1218</td><td> 768</td><td>4943</td><td>⋯</td><td>6878</td><td>9627</td><td>7611</td><td>Gnai3</td><td>3 </td><td>108107280</td><td>108146146</td><td>3262</td><td>-</td><td>F2.3</td></tr>\n",
       "\t<tr><th scope=row>ENSMUSG00000000003</th><td>  0</td><td>  0</td><td>  0</td><td>   0</td><td>   0</td><td>  0</td><td>   0</td><td>   0</td><td>   0</td><td>   0</td><td>⋯</td><td>   0</td><td>   0</td><td>   0</td><td>Pbsn </td><td>X </td><td> 77837901</td><td> 77853623</td><td> 902</td><td>-</td><td>B   </td></tr>\n",
       "\t<tr><th scope=row>ENSMUSG00000000028</th><td>  4</td><td>  7</td><td> 12</td><td>  73</td><td>  96</td><td> 41</td><td> 118</td><td> 123</td><td>  10</td><td> 159</td><td>⋯</td><td>  69</td><td>  63</td><td>  83</td><td>Cdc45</td><td>16</td><td> 18780447</td><td> 18811987</td><td>2143</td><td>-</td><td>A3  </td></tr>\n",
       "\t<tr><th scope=row>ENSMUSG00000000031</th><td> 52</td><td> 17</td><td>316</td><td>1294</td><td> 579</td><td>213</td><td>3528</td><td>5748</td><td>2298</td><td>  66</td><td>⋯</td><td>  48</td><td>  84</td><td>  49</td><td>H19  </td><td>7 </td><td>142575529</td><td>142578143</td><td>2286</td><td>-</td><td>F5  </td></tr>\n",
       "\t<tr><th scope=row>ENSMUSG00000000037</th><td>  1</td><td>  0</td><td>  0</td><td>   2</td><td>   7</td><td>  6</td><td>   2</td><td>  10</td><td>   3</td><td>   7</td><td>⋯</td><td>   2</td><td>   1</td><td>   4</td><td>Scml2</td><td>X </td><td>161117193</td><td>161258213</td><td>4847</td><td>+</td><td>F4  </td></tr>\n",
       "\t<tr><th scope=row>ENSMUSG00000000049</th><td>  0</td><td>  0</td><td>  0</td><td>   0</td><td>   0</td><td>  1</td><td>   2</td><td>   0</td><td>   0</td><td>   4</td><td>⋯</td><td>   6</td><td>  13</td><td>  17</td><td>Apoh </td><td>11</td><td>108343354</td><td>108414396</td><td>1190</td><td>+</td><td>E1  </td></tr>\n",
       "</tbody>\n",
       "</table>\n"
      ],
      "text/latex": [
       "A data.frame: 6 × 25\n",
       "\\begin{tabular}{r|lllllllllllllllllllll}\n",
       "  & Normal.shRen.713\\_RNA1 & Normal.shRen.713\\_RNA2 & Normal.shRen.713\\_RNA3 & RegADM.shRen.713\\_RNA1 & RegADM.shRen.713\\_RNA2 & RegADM.shRen.713\\_RNA3 & RegADM.shBrd4.1448\\_RNA1 & RegADM.shBrd4.1448\\_RNA2 & RegADM.shBrd4.1448\\_RNA3 & Kras.ADR.shRen.713\\_RNA1 & ⋯ & Kras.ADR.shBrd4.552\\_RNA1 & Kras.ADR.shBrd4.552\\_RNA2 & Kras.ADR.shBrd4.552\\_RNA3 & Gene\\_name & chromosome\\_name & start\\_position & end\\_position & transcript\\_length & Strand & Karyotype\\_band\\\\\n",
       "  & <int> & <int> & <int> & <int> & <int> & <int> & <int> & <int> & <int> & <int> & ⋯ & <int> & <int> & <int> & <chr> & <chr> & <int> & <int> & <int> & <chr> & <chr>\\\\\n",
       "\\hline\n",
       "\tENSMUSG00000000001 & 337 & 246 & 262 & 1359 & 1063 & 668 & 1213 & 1218 &  768 & 4943 & ⋯ & 6878 & 9627 & 7611 & Gnai3 & 3  & 108107280 & 108146146 & 3262 & - & F2.3\\\\\n",
       "\tENSMUSG00000000003 &   0 &   0 &   0 &    0 &    0 &   0 &    0 &    0 &    0 &    0 & ⋯ &    0 &    0 &    0 & Pbsn  & X  &  77837901 &  77853623 &  902 & - & B   \\\\\n",
       "\tENSMUSG00000000028 &   4 &   7 &  12 &   73 &   96 &  41 &  118 &  123 &   10 &  159 & ⋯ &   69 &   63 &   83 & Cdc45 & 16 &  18780447 &  18811987 & 2143 & - & A3  \\\\\n",
       "\tENSMUSG00000000031 &  52 &  17 & 316 & 1294 &  579 & 213 & 3528 & 5748 & 2298 &   66 & ⋯ &   48 &   84 &   49 & H19   & 7  & 142575529 & 142578143 & 2286 & - & F5  \\\\\n",
       "\tENSMUSG00000000037 &   1 &   0 &   0 &    2 &    7 &   6 &    2 &   10 &    3 &    7 & ⋯ &    2 &    1 &    4 & Scml2 & X  & 161117193 & 161258213 & 4847 & + & F4  \\\\\n",
       "\tENSMUSG00000000049 &   0 &   0 &   0 &    0 &    0 &   1 &    2 &    0 &    0 &    4 & ⋯ &    6 &   13 &   17 & Apoh  & 11 & 108343354 & 108414396 & 1190 & + & E1  \\\\\n",
       "\\end{tabular}\n"
      ],
      "text/markdown": [
       "\n",
       "A data.frame: 6 × 25\n",
       "\n",
       "| <!--/--> | Normal.shRen.713_RNA1 &lt;int&gt; | Normal.shRen.713_RNA2 &lt;int&gt; | Normal.shRen.713_RNA3 &lt;int&gt; | RegADM.shRen.713_RNA1 &lt;int&gt; | RegADM.shRen.713_RNA2 &lt;int&gt; | RegADM.shRen.713_RNA3 &lt;int&gt; | RegADM.shBrd4.1448_RNA1 &lt;int&gt; | RegADM.shBrd4.1448_RNA2 &lt;int&gt; | RegADM.shBrd4.1448_RNA3 &lt;int&gt; | Kras.ADR.shRen.713_RNA1 &lt;int&gt; | ⋯ ⋯ | Kras.ADR.shBrd4.552_RNA1 &lt;int&gt; | Kras.ADR.shBrd4.552_RNA2 &lt;int&gt; | Kras.ADR.shBrd4.552_RNA3 &lt;int&gt; | Gene_name &lt;chr&gt; | chromosome_name &lt;chr&gt; | start_position &lt;int&gt; | end_position &lt;int&gt; | transcript_length &lt;int&gt; | Strand &lt;chr&gt; | Karyotype_band &lt;chr&gt; |\n",
       "|---|---|---|---|---|---|---|---|---|---|---|---|---|---|---|---|---|---|---|---|---|---|\n",
       "| ENSMUSG00000000001 | 337 | 246 | 262 | 1359 | 1063 | 668 | 1213 | 1218 |  768 | 4943 | ⋯ | 6878 | 9627 | 7611 | Gnai3 | 3  | 108107280 | 108146146 | 3262 | - | F2.3 |\n",
       "| ENSMUSG00000000003 |   0 |   0 |   0 |    0 |    0 |   0 |    0 |    0 |    0 |    0 | ⋯ |    0 |    0 |    0 | Pbsn  | X  |  77837901 |  77853623 |  902 | - | B    |\n",
       "| ENSMUSG00000000028 |   4 |   7 |  12 |   73 |   96 |  41 |  118 |  123 |   10 |  159 | ⋯ |   69 |   63 |   83 | Cdc45 | 16 |  18780447 |  18811987 | 2143 | - | A3   |\n",
       "| ENSMUSG00000000031 |  52 |  17 | 316 | 1294 |  579 | 213 | 3528 | 5748 | 2298 |   66 | ⋯ |   48 |   84 |   49 | H19   | 7  | 142575529 | 142578143 | 2286 | - | F5   |\n",
       "| ENSMUSG00000000037 |   1 |   0 |   0 |    2 |    7 |   6 |    2 |   10 |    3 |    7 | ⋯ |    2 |    1 |    4 | Scml2 | X  | 161117193 | 161258213 | 4847 | + | F4   |\n",
       "| ENSMUSG00000000049 |   0 |   0 |   0 |    0 |    0 |   1 |    2 |    0 |    0 |    4 | ⋯ |    6 |   13 |   17 | Apoh  | 11 | 108343354 | 108414396 | 1190 | + | E1   |\n",
       "\n"
      ],
      "text/plain": [
       "                   Normal.shRen.713_RNA1 Normal.shRen.713_RNA2\n",
       "ENSMUSG00000000001 337                   246                  \n",
       "ENSMUSG00000000003   0                     0                  \n",
       "ENSMUSG00000000028   4                     7                  \n",
       "ENSMUSG00000000031  52                    17                  \n",
       "ENSMUSG00000000037   1                     0                  \n",
       "ENSMUSG00000000049   0                     0                  \n",
       "                   Normal.shRen.713_RNA3 RegADM.shRen.713_RNA1\n",
       "ENSMUSG00000000001 262                   1359                 \n",
       "ENSMUSG00000000003   0                      0                 \n",
       "ENSMUSG00000000028  12                     73                 \n",
       "ENSMUSG00000000031 316                   1294                 \n",
       "ENSMUSG00000000037   0                      2                 \n",
       "ENSMUSG00000000049   0                      0                 \n",
       "                   RegADM.shRen.713_RNA2 RegADM.shRen.713_RNA3\n",
       "ENSMUSG00000000001 1063                  668                  \n",
       "ENSMUSG00000000003    0                    0                  \n",
       "ENSMUSG00000000028   96                   41                  \n",
       "ENSMUSG00000000031  579                  213                  \n",
       "ENSMUSG00000000037    7                    6                  \n",
       "ENSMUSG00000000049    0                    1                  \n",
       "                   RegADM.shBrd4.1448_RNA1 RegADM.shBrd4.1448_RNA2\n",
       "ENSMUSG00000000001 1213                    1218                   \n",
       "ENSMUSG00000000003    0                       0                   \n",
       "ENSMUSG00000000028  118                     123                   \n",
       "ENSMUSG00000000031 3528                    5748                   \n",
       "ENSMUSG00000000037    2                      10                   \n",
       "ENSMUSG00000000049    2                       0                   \n",
       "                   RegADM.shBrd4.1448_RNA3 Kras.ADR.shRen.713_RNA1 ⋯\n",
       "ENSMUSG00000000001  768                    4943                    ⋯\n",
       "ENSMUSG00000000003    0                       0                    ⋯\n",
       "ENSMUSG00000000028   10                     159                    ⋯\n",
       "ENSMUSG00000000031 2298                      66                    ⋯\n",
       "ENSMUSG00000000037    3                       7                    ⋯\n",
       "ENSMUSG00000000049    0                       4                    ⋯\n",
       "                   Kras.ADR.shBrd4.552_RNA1 Kras.ADR.shBrd4.552_RNA2\n",
       "ENSMUSG00000000001 6878                     9627                    \n",
       "ENSMUSG00000000003    0                        0                    \n",
       "ENSMUSG00000000028   69                       63                    \n",
       "ENSMUSG00000000031   48                       84                    \n",
       "ENSMUSG00000000037    2                        1                    \n",
       "ENSMUSG00000000049    6                       13                    \n",
       "                   Kras.ADR.shBrd4.552_RNA3 Gene_name chromosome_name\n",
       "ENSMUSG00000000001 7611                     Gnai3     3              \n",
       "ENSMUSG00000000003    0                     Pbsn      X              \n",
       "ENSMUSG00000000028   83                     Cdc45     16             \n",
       "ENSMUSG00000000031   49                     H19       7              \n",
       "ENSMUSG00000000037    4                     Scml2     X              \n",
       "ENSMUSG00000000049   17                     Apoh      11             \n",
       "                   start_position end_position transcript_length Strand\n",
       "ENSMUSG00000000001 108107280      108146146    3262              -     \n",
       "ENSMUSG00000000003  77837901       77853623     902              -     \n",
       "ENSMUSG00000000028  18780447       18811987    2143              -     \n",
       "ENSMUSG00000000031 142575529      142578143    2286              -     \n",
       "ENSMUSG00000000037 161117193      161258213    4847              +     \n",
       "ENSMUSG00000000049 108343354      108414396    1190              +     \n",
       "                   Karyotype_band\n",
       "ENSMUSG00000000001 F2.3          \n",
       "ENSMUSG00000000003 B             \n",
       "ENSMUSG00000000028 A3            \n",
       "ENSMUSG00000000031 F5            \n",
       "ENSMUSG00000000037 F4            \n",
       "ENSMUSG00000000049 E1            "
      ]
     },
     "metadata": {},
     "output_type": "display_data"
    },
    {
     "data": {
      "text/html": [
       "<style>\n",
       ".list-inline {list-style: none; margin:0; padding: 0}\n",
       ".list-inline>li {display: inline-block}\n",
       ".list-inline>li:not(:last-child)::after {content: \"\\00b7\"; padding: 0 .5ex}\n",
       "</style>\n",
       "<ol class=list-inline><li>'Normal.shRen.713_RNA1'</li><li>'Normal.shRen.713_RNA2'</li><li>'Normal.shRen.713_RNA3'</li><li>'RegADM.shRen.713_RNA1'</li><li>'RegADM.shRen.713_RNA2'</li><li>'RegADM.shRen.713_RNA3'</li><li>'RegADM.shBrd4.1448_RNA1'</li><li>'RegADM.shBrd4.1448_RNA2'</li><li>'RegADM.shBrd4.1448_RNA3'</li><li>'Kras.ADR.shRen.713_RNA1'</li><li>'Kras.ADR.shRen.713_RNA2'</li><li>'Kras.ADR.shRen.713_RNA3'</li><li>'Kras.ADR.shBrd4.1448_RNA1'</li><li>'Kras.ADR.shBrd4.1448_RNA2'</li><li>'Kras.ADR.shBrd4.1448_RNA3'</li><li>'Kras.ADR.shBrd4.552_RNA1'</li><li>'Kras.ADR.shBrd4.552_RNA2'</li><li>'Kras.ADR.shBrd4.552_RNA3'</li><li>'Gene_name'</li><li>'chromosome_name'</li><li>'start_position'</li><li>'end_position'</li><li>'transcript_length'</li><li>'Strand'</li><li>'Karyotype_band'</li></ol>\n"
      ],
      "text/latex": [
       "\\begin{enumerate*}\n",
       "\\item 'Normal.shRen.713\\_RNA1'\n",
       "\\item 'Normal.shRen.713\\_RNA2'\n",
       "\\item 'Normal.shRen.713\\_RNA3'\n",
       "\\item 'RegADM.shRen.713\\_RNA1'\n",
       "\\item 'RegADM.shRen.713\\_RNA2'\n",
       "\\item 'RegADM.shRen.713\\_RNA3'\n",
       "\\item 'RegADM.shBrd4.1448\\_RNA1'\n",
       "\\item 'RegADM.shBrd4.1448\\_RNA2'\n",
       "\\item 'RegADM.shBrd4.1448\\_RNA3'\n",
       "\\item 'Kras.ADR.shRen.713\\_RNA1'\n",
       "\\item 'Kras.ADR.shRen.713\\_RNA2'\n",
       "\\item 'Kras.ADR.shRen.713\\_RNA3'\n",
       "\\item 'Kras.ADR.shBrd4.1448\\_RNA1'\n",
       "\\item 'Kras.ADR.shBrd4.1448\\_RNA2'\n",
       "\\item 'Kras.ADR.shBrd4.1448\\_RNA3'\n",
       "\\item 'Kras.ADR.shBrd4.552\\_RNA1'\n",
       "\\item 'Kras.ADR.shBrd4.552\\_RNA2'\n",
       "\\item 'Kras.ADR.shBrd4.552\\_RNA3'\n",
       "\\item 'Gene\\_name'\n",
       "\\item 'chromosome\\_name'\n",
       "\\item 'start\\_position'\n",
       "\\item 'end\\_position'\n",
       "\\item 'transcript\\_length'\n",
       "\\item 'Strand'\n",
       "\\item 'Karyotype\\_band'\n",
       "\\end{enumerate*}\n"
      ],
      "text/markdown": [
       "1. 'Normal.shRen.713_RNA1'\n",
       "2. 'Normal.shRen.713_RNA2'\n",
       "3. 'Normal.shRen.713_RNA3'\n",
       "4. 'RegADM.shRen.713_RNA1'\n",
       "5. 'RegADM.shRen.713_RNA2'\n",
       "6. 'RegADM.shRen.713_RNA3'\n",
       "7. 'RegADM.shBrd4.1448_RNA1'\n",
       "8. 'RegADM.shBrd4.1448_RNA2'\n",
       "9. 'RegADM.shBrd4.1448_RNA3'\n",
       "10. 'Kras.ADR.shRen.713_RNA1'\n",
       "11. 'Kras.ADR.shRen.713_RNA2'\n",
       "12. 'Kras.ADR.shRen.713_RNA3'\n",
       "13. 'Kras.ADR.shBrd4.1448_RNA1'\n",
       "14. 'Kras.ADR.shBrd4.1448_RNA2'\n",
       "15. 'Kras.ADR.shBrd4.1448_RNA3'\n",
       "16. 'Kras.ADR.shBrd4.552_RNA1'\n",
       "17. 'Kras.ADR.shBrd4.552_RNA2'\n",
       "18. 'Kras.ADR.shBrd4.552_RNA3'\n",
       "19. 'Gene_name'\n",
       "20. 'chromosome_name'\n",
       "21. 'start_position'\n",
       "22. 'end_position'\n",
       "23. 'transcript_length'\n",
       "24. 'Strand'\n",
       "25. 'Karyotype_band'\n",
       "\n",
       "\n"
      ],
      "text/plain": [
       " [1] \"Normal.shRen.713_RNA1\"     \"Normal.shRen.713_RNA2\"    \n",
       " [3] \"Normal.shRen.713_RNA3\"     \"RegADM.shRen.713_RNA1\"    \n",
       " [5] \"RegADM.shRen.713_RNA2\"     \"RegADM.shRen.713_RNA3\"    \n",
       " [7] \"RegADM.shBrd4.1448_RNA1\"   \"RegADM.shBrd4.1448_RNA2\"  \n",
       " [9] \"RegADM.shBrd4.1448_RNA3\"   \"Kras.ADR.shRen.713_RNA1\"  \n",
       "[11] \"Kras.ADR.shRen.713_RNA2\"   \"Kras.ADR.shRen.713_RNA3\"  \n",
       "[13] \"Kras.ADR.shBrd4.1448_RNA1\" \"Kras.ADR.shBrd4.1448_RNA2\"\n",
       "[15] \"Kras.ADR.shBrd4.1448_RNA3\" \"Kras.ADR.shBrd4.552_RNA1\" \n",
       "[17] \"Kras.ADR.shBrd4.552_RNA2\"  \"Kras.ADR.shBrd4.552_RNA3\" \n",
       "[19] \"Gene_name\"                 \"chromosome_name\"          \n",
       "[21] \"start_position\"            \"end_position\"             \n",
       "[23] \"transcript_length\"         \"Strand\"                   \n",
       "[25] \"Karyotype_band\"           "
      ]
     },
     "metadata": {},
     "output_type": "display_data"
    }
   ],
   "source": [
    "data <- read.csv(\"data/GSE132329_Alonso-Curbelo_RNASeq_SET2.csv\",\n",
    "                 row.name=\"ID\")\n",
    "head(data)\n",
    "names(data)"
   ]
  },
  {
   "cell_type": "code",
   "execution_count": 5,
   "id": "eb9c978b",
   "metadata": {},
   "outputs": [
    {
     "data": {
      "text/html": [
       "<table class=\"dataframe\">\n",
       "<caption>A data.frame: 6 × 1</caption>\n",
       "<thead>\n",
       "\t<tr><th></th><th scope=col>Gene_name</th></tr>\n",
       "\t<tr><th></th><th scope=col>&lt;chr&gt;</th></tr>\n",
       "</thead>\n",
       "<tbody>\n",
       "\t<tr><th scope=row>ENSMUSG00000000001</th><td>Gnai3</td></tr>\n",
       "\t<tr><th scope=row>ENSMUSG00000000003</th><td>Pbsn </td></tr>\n",
       "\t<tr><th scope=row>ENSMUSG00000000028</th><td>Cdc45</td></tr>\n",
       "\t<tr><th scope=row>ENSMUSG00000000031</th><td>H19  </td></tr>\n",
       "\t<tr><th scope=row>ENSMUSG00000000037</th><td>Scml2</td></tr>\n",
       "\t<tr><th scope=row>ENSMUSG00000000049</th><td>Apoh </td></tr>\n",
       "</tbody>\n",
       "</table>\n"
      ],
      "text/latex": [
       "A data.frame: 6 × 1\n",
       "\\begin{tabular}{r|l}\n",
       "  & Gene\\_name\\\\\n",
       "  & <chr>\\\\\n",
       "\\hline\n",
       "\tENSMUSG00000000001 & Gnai3\\\\\n",
       "\tENSMUSG00000000003 & Pbsn \\\\\n",
       "\tENSMUSG00000000028 & Cdc45\\\\\n",
       "\tENSMUSG00000000031 & H19  \\\\\n",
       "\tENSMUSG00000000037 & Scml2\\\\\n",
       "\tENSMUSG00000000049 & Apoh \\\\\n",
       "\\end{tabular}\n"
      ],
      "text/markdown": [
       "\n",
       "A data.frame: 6 × 1\n",
       "\n",
       "| <!--/--> | Gene_name &lt;chr&gt; |\n",
       "|---|---|\n",
       "| ENSMUSG00000000001 | Gnai3 |\n",
       "| ENSMUSG00000000003 | Pbsn  |\n",
       "| ENSMUSG00000000028 | Cdc45 |\n",
       "| ENSMUSG00000000031 | H19   |\n",
       "| ENSMUSG00000000037 | Scml2 |\n",
       "| ENSMUSG00000000049 | Apoh  |\n",
       "\n"
      ],
      "text/plain": [
       "                   Gene_name\n",
       "ENSMUSG00000000001 Gnai3    \n",
       "ENSMUSG00000000003 Pbsn     \n",
       "ENSMUSG00000000028 Cdc45    \n",
       "ENSMUSG00000000031 H19      \n",
       "ENSMUSG00000000037 Scml2    \n",
       "ENSMUSG00000000049 Apoh     "
      ]
     },
     "metadata": {},
     "output_type": "display_data"
    }
   ],
   "source": [
    "# create and output gene_id to gene_name dataframe (just in case if needed)\n",
    "id2gene <- subset(data, select=c(Gene_name))\n",
    "head(id2gene)\n",
    "\n",
    "write.csv(as.data.frame(id2gene),\n",
    "          file=\"data/gene_id_to_name.csv\")"
   ]
  },
  {
   "cell_type": "code",
   "execution_count": 6,
   "id": "9596bd50",
   "metadata": {},
   "outputs": [
    {
     "data": {
      "text/html": [
       "<table class=\"dataframe\">\n",
       "<caption>A data.frame: 6 × 15</caption>\n",
       "<thead>\n",
       "\t<tr><th></th><th scope=col>Normal.shRen.713_RNA1</th><th scope=col>Normal.shRen.713_RNA2</th><th scope=col>Normal.shRen.713_RNA3</th><th scope=col>RegADM.shRen.713_RNA1</th><th scope=col>RegADM.shRen.713_RNA2</th><th scope=col>RegADM.shRen.713_RNA3</th><th scope=col>RegADM.shBrd4.1448_RNA1</th><th scope=col>RegADM.shBrd4.1448_RNA2</th><th scope=col>RegADM.shBrd4.1448_RNA3</th><th scope=col>Kras.ADR.shRen.713_RNA1</th><th scope=col>Kras.ADR.shRen.713_RNA2</th><th scope=col>Kras.ADR.shRen.713_RNA3</th><th scope=col>Kras.ADR.shBrd4.1448_RNA1</th><th scope=col>Kras.ADR.shBrd4.1448_RNA2</th><th scope=col>Kras.ADR.shBrd4.1448_RNA3</th></tr>\n",
       "\t<tr><th></th><th scope=col>&lt;int&gt;</th><th scope=col>&lt;int&gt;</th><th scope=col>&lt;int&gt;</th><th scope=col>&lt;int&gt;</th><th scope=col>&lt;int&gt;</th><th scope=col>&lt;int&gt;</th><th scope=col>&lt;int&gt;</th><th scope=col>&lt;int&gt;</th><th scope=col>&lt;int&gt;</th><th scope=col>&lt;int&gt;</th><th scope=col>&lt;int&gt;</th><th scope=col>&lt;int&gt;</th><th scope=col>&lt;int&gt;</th><th scope=col>&lt;int&gt;</th><th scope=col>&lt;int&gt;</th></tr>\n",
       "</thead>\n",
       "<tbody>\n",
       "\t<tr><th scope=row>ENSMUSG00000000001</th><td>337</td><td>246</td><td>262</td><td>1359</td><td>1063</td><td>668</td><td>1213</td><td>1218</td><td> 768</td><td>4943</td><td>7346</td><td>4979</td><td>5658</td><td>8404</td><td>7420</td></tr>\n",
       "\t<tr><th scope=row>ENSMUSG00000000003</th><td>  0</td><td>  0</td><td>  0</td><td>   0</td><td>   0</td><td>  0</td><td>   0</td><td>   0</td><td>   0</td><td>   0</td><td>   0</td><td>   0</td><td>   0</td><td>   0</td><td>   0</td></tr>\n",
       "\t<tr><th scope=row>ENSMUSG00000000028</th><td>  4</td><td>  7</td><td> 12</td><td>  73</td><td>  96</td><td> 41</td><td> 118</td><td> 123</td><td>  10</td><td> 159</td><td> 164</td><td> 144</td><td>  65</td><td> 105</td><td> 101</td></tr>\n",
       "\t<tr><th scope=row>ENSMUSG00000000031</th><td> 52</td><td> 17</td><td>316</td><td>1294</td><td> 579</td><td>213</td><td>3528</td><td>5748</td><td>2298</td><td>  66</td><td>  59</td><td> 145</td><td> 484</td><td> 117</td><td> 639</td></tr>\n",
       "\t<tr><th scope=row>ENSMUSG00000000037</th><td>  1</td><td>  0</td><td>  0</td><td>   2</td><td>   7</td><td>  6</td><td>   2</td><td>  10</td><td>   3</td><td>   7</td><td>   8</td><td>   8</td><td>   4</td><td>   9</td><td>   3</td></tr>\n",
       "\t<tr><th scope=row>ENSMUSG00000000049</th><td>  0</td><td>  0</td><td>  0</td><td>   0</td><td>   0</td><td>  1</td><td>   2</td><td>   0</td><td>   0</td><td>   4</td><td>   6</td><td>   1</td><td>   7</td><td>   9</td><td>   5</td></tr>\n",
       "</tbody>\n",
       "</table>\n"
      ],
      "text/latex": [
       "A data.frame: 6 × 15\n",
       "\\begin{tabular}{r|lllllllllllllll}\n",
       "  & Normal.shRen.713\\_RNA1 & Normal.shRen.713\\_RNA2 & Normal.shRen.713\\_RNA3 & RegADM.shRen.713\\_RNA1 & RegADM.shRen.713\\_RNA2 & RegADM.shRen.713\\_RNA3 & RegADM.shBrd4.1448\\_RNA1 & RegADM.shBrd4.1448\\_RNA2 & RegADM.shBrd4.1448\\_RNA3 & Kras.ADR.shRen.713\\_RNA1 & Kras.ADR.shRen.713\\_RNA2 & Kras.ADR.shRen.713\\_RNA3 & Kras.ADR.shBrd4.1448\\_RNA1 & Kras.ADR.shBrd4.1448\\_RNA2 & Kras.ADR.shBrd4.1448\\_RNA3\\\\\n",
       "  & <int> & <int> & <int> & <int> & <int> & <int> & <int> & <int> & <int> & <int> & <int> & <int> & <int> & <int> & <int>\\\\\n",
       "\\hline\n",
       "\tENSMUSG00000000001 & 337 & 246 & 262 & 1359 & 1063 & 668 & 1213 & 1218 &  768 & 4943 & 7346 & 4979 & 5658 & 8404 & 7420\\\\\n",
       "\tENSMUSG00000000003 &   0 &   0 &   0 &    0 &    0 &   0 &    0 &    0 &    0 &    0 &    0 &    0 &    0 &    0 &    0\\\\\n",
       "\tENSMUSG00000000028 &   4 &   7 &  12 &   73 &   96 &  41 &  118 &  123 &   10 &  159 &  164 &  144 &   65 &  105 &  101\\\\\n",
       "\tENSMUSG00000000031 &  52 &  17 & 316 & 1294 &  579 & 213 & 3528 & 5748 & 2298 &   66 &   59 &  145 &  484 &  117 &  639\\\\\n",
       "\tENSMUSG00000000037 &   1 &   0 &   0 &    2 &    7 &   6 &    2 &   10 &    3 &    7 &    8 &    8 &    4 &    9 &    3\\\\\n",
       "\tENSMUSG00000000049 &   0 &   0 &   0 &    0 &    0 &   1 &    2 &    0 &    0 &    4 &    6 &    1 &    7 &    9 &    5\\\\\n",
       "\\end{tabular}\n"
      ],
      "text/markdown": [
       "\n",
       "A data.frame: 6 × 15\n",
       "\n",
       "| <!--/--> | Normal.shRen.713_RNA1 &lt;int&gt; | Normal.shRen.713_RNA2 &lt;int&gt; | Normal.shRen.713_RNA3 &lt;int&gt; | RegADM.shRen.713_RNA1 &lt;int&gt; | RegADM.shRen.713_RNA2 &lt;int&gt; | RegADM.shRen.713_RNA3 &lt;int&gt; | RegADM.shBrd4.1448_RNA1 &lt;int&gt; | RegADM.shBrd4.1448_RNA2 &lt;int&gt; | RegADM.shBrd4.1448_RNA3 &lt;int&gt; | Kras.ADR.shRen.713_RNA1 &lt;int&gt; | Kras.ADR.shRen.713_RNA2 &lt;int&gt; | Kras.ADR.shRen.713_RNA3 &lt;int&gt; | Kras.ADR.shBrd4.1448_RNA1 &lt;int&gt; | Kras.ADR.shBrd4.1448_RNA2 &lt;int&gt; | Kras.ADR.shBrd4.1448_RNA3 &lt;int&gt; |\n",
       "|---|---|---|---|---|---|---|---|---|---|---|---|---|---|---|---|\n",
       "| ENSMUSG00000000001 | 337 | 246 | 262 | 1359 | 1063 | 668 | 1213 | 1218 |  768 | 4943 | 7346 | 4979 | 5658 | 8404 | 7420 |\n",
       "| ENSMUSG00000000003 |   0 |   0 |   0 |    0 |    0 |   0 |    0 |    0 |    0 |    0 |    0 |    0 |    0 |    0 |    0 |\n",
       "| ENSMUSG00000000028 |   4 |   7 |  12 |   73 |   96 |  41 |  118 |  123 |   10 |  159 |  164 |  144 |   65 |  105 |  101 |\n",
       "| ENSMUSG00000000031 |  52 |  17 | 316 | 1294 |  579 | 213 | 3528 | 5748 | 2298 |   66 |   59 |  145 |  484 |  117 |  639 |\n",
       "| ENSMUSG00000000037 |   1 |   0 |   0 |    2 |    7 |   6 |    2 |   10 |    3 |    7 |    8 |    8 |    4 |    9 |    3 |\n",
       "| ENSMUSG00000000049 |   0 |   0 |   0 |    0 |    0 |   1 |    2 |    0 |    0 |    4 |    6 |    1 |    7 |    9 |    5 |\n",
       "\n"
      ],
      "text/plain": [
       "                   Normal.shRen.713_RNA1 Normal.shRen.713_RNA2\n",
       "ENSMUSG00000000001 337                   246                  \n",
       "ENSMUSG00000000003   0                     0                  \n",
       "ENSMUSG00000000028   4                     7                  \n",
       "ENSMUSG00000000031  52                    17                  \n",
       "ENSMUSG00000000037   1                     0                  \n",
       "ENSMUSG00000000049   0                     0                  \n",
       "                   Normal.shRen.713_RNA3 RegADM.shRen.713_RNA1\n",
       "ENSMUSG00000000001 262                   1359                 \n",
       "ENSMUSG00000000003   0                      0                 \n",
       "ENSMUSG00000000028  12                     73                 \n",
       "ENSMUSG00000000031 316                   1294                 \n",
       "ENSMUSG00000000037   0                      2                 \n",
       "ENSMUSG00000000049   0                      0                 \n",
       "                   RegADM.shRen.713_RNA2 RegADM.shRen.713_RNA3\n",
       "ENSMUSG00000000001 1063                  668                  \n",
       "ENSMUSG00000000003    0                    0                  \n",
       "ENSMUSG00000000028   96                   41                  \n",
       "ENSMUSG00000000031  579                  213                  \n",
       "ENSMUSG00000000037    7                    6                  \n",
       "ENSMUSG00000000049    0                    1                  \n",
       "                   RegADM.shBrd4.1448_RNA1 RegADM.shBrd4.1448_RNA2\n",
       "ENSMUSG00000000001 1213                    1218                   \n",
       "ENSMUSG00000000003    0                       0                   \n",
       "ENSMUSG00000000028  118                     123                   \n",
       "ENSMUSG00000000031 3528                    5748                   \n",
       "ENSMUSG00000000037    2                      10                   \n",
       "ENSMUSG00000000049    2                       0                   \n",
       "                   RegADM.shBrd4.1448_RNA3 Kras.ADR.shRen.713_RNA1\n",
       "ENSMUSG00000000001  768                    4943                   \n",
       "ENSMUSG00000000003    0                       0                   \n",
       "ENSMUSG00000000028   10                     159                   \n",
       "ENSMUSG00000000031 2298                      66                   \n",
       "ENSMUSG00000000037    3                       7                   \n",
       "ENSMUSG00000000049    0                       4                   \n",
       "                   Kras.ADR.shRen.713_RNA2 Kras.ADR.shRen.713_RNA3\n",
       "ENSMUSG00000000001 7346                    4979                   \n",
       "ENSMUSG00000000003    0                       0                   \n",
       "ENSMUSG00000000028  164                     144                   \n",
       "ENSMUSG00000000031   59                     145                   \n",
       "ENSMUSG00000000037    8                       8                   \n",
       "ENSMUSG00000000049    6                       1                   \n",
       "                   Kras.ADR.shBrd4.1448_RNA1 Kras.ADR.shBrd4.1448_RNA2\n",
       "ENSMUSG00000000001 5658                      8404                     \n",
       "ENSMUSG00000000003    0                         0                     \n",
       "ENSMUSG00000000028   65                       105                     \n",
       "ENSMUSG00000000031  484                       117                     \n",
       "ENSMUSG00000000037    4                         9                     \n",
       "ENSMUSG00000000049    7                         9                     \n",
       "                   Kras.ADR.shBrd4.1448_RNA3\n",
       "ENSMUSG00000000001 7420                     \n",
       "ENSMUSG00000000003    0                     \n",
       "ENSMUSG00000000028  101                     \n",
       "ENSMUSG00000000031  639                     \n",
       "ENSMUSG00000000037    3                     \n",
       "ENSMUSG00000000049    5                     "
      ]
     },
     "metadata": {},
     "output_type": "display_data"
    },
    {
     "data": {
      "text/html": [
       "<style>\n",
       ".list-inline {list-style: none; margin:0; padding: 0}\n",
       ".list-inline>li {display: inline-block}\n",
       ".list-inline>li:not(:last-child)::after {content: \"\\00b7\"; padding: 0 .5ex}\n",
       "</style>\n",
       "<ol class=list-inline><li>'Normal.shRen.713_RNA1'</li><li>'Normal.shRen.713_RNA2'</li><li>'Normal.shRen.713_RNA3'</li><li>'RegADM.shRen.713_RNA1'</li><li>'RegADM.shRen.713_RNA2'</li><li>'RegADM.shRen.713_RNA3'</li><li>'RegADM.shBrd4.1448_RNA1'</li><li>'RegADM.shBrd4.1448_RNA2'</li><li>'RegADM.shBrd4.1448_RNA3'</li><li>'Kras.ADR.shRen.713_RNA1'</li><li>'Kras.ADR.shRen.713_RNA2'</li><li>'Kras.ADR.shRen.713_RNA3'</li><li>'Kras.ADR.shBrd4.1448_RNA1'</li><li>'Kras.ADR.shBrd4.1448_RNA2'</li><li>'Kras.ADR.shBrd4.1448_RNA3'</li></ol>\n"
      ],
      "text/latex": [
       "\\begin{enumerate*}\n",
       "\\item 'Normal.shRen.713\\_RNA1'\n",
       "\\item 'Normal.shRen.713\\_RNA2'\n",
       "\\item 'Normal.shRen.713\\_RNA3'\n",
       "\\item 'RegADM.shRen.713\\_RNA1'\n",
       "\\item 'RegADM.shRen.713\\_RNA2'\n",
       "\\item 'RegADM.shRen.713\\_RNA3'\n",
       "\\item 'RegADM.shBrd4.1448\\_RNA1'\n",
       "\\item 'RegADM.shBrd4.1448\\_RNA2'\n",
       "\\item 'RegADM.shBrd4.1448\\_RNA3'\n",
       "\\item 'Kras.ADR.shRen.713\\_RNA1'\n",
       "\\item 'Kras.ADR.shRen.713\\_RNA2'\n",
       "\\item 'Kras.ADR.shRen.713\\_RNA3'\n",
       "\\item 'Kras.ADR.shBrd4.1448\\_RNA1'\n",
       "\\item 'Kras.ADR.shBrd4.1448\\_RNA2'\n",
       "\\item 'Kras.ADR.shBrd4.1448\\_RNA3'\n",
       "\\end{enumerate*}\n"
      ],
      "text/markdown": [
       "1. 'Normal.shRen.713_RNA1'\n",
       "2. 'Normal.shRen.713_RNA2'\n",
       "3. 'Normal.shRen.713_RNA3'\n",
       "4. 'RegADM.shRen.713_RNA1'\n",
       "5. 'RegADM.shRen.713_RNA2'\n",
       "6. 'RegADM.shRen.713_RNA3'\n",
       "7. 'RegADM.shBrd4.1448_RNA1'\n",
       "8. 'RegADM.shBrd4.1448_RNA2'\n",
       "9. 'RegADM.shBrd4.1448_RNA3'\n",
       "10. 'Kras.ADR.shRen.713_RNA1'\n",
       "11. 'Kras.ADR.shRen.713_RNA2'\n",
       "12. 'Kras.ADR.shRen.713_RNA3'\n",
       "13. 'Kras.ADR.shBrd4.1448_RNA1'\n",
       "14. 'Kras.ADR.shBrd4.1448_RNA2'\n",
       "15. 'Kras.ADR.shBrd4.1448_RNA3'\n",
       "\n",
       "\n"
      ],
      "text/plain": [
       " [1] \"Normal.shRen.713_RNA1\"     \"Normal.shRen.713_RNA2\"    \n",
       " [3] \"Normal.shRen.713_RNA3\"     \"RegADM.shRen.713_RNA1\"    \n",
       " [5] \"RegADM.shRen.713_RNA2\"     \"RegADM.shRen.713_RNA3\"    \n",
       " [7] \"RegADM.shBrd4.1448_RNA1\"   \"RegADM.shBrd4.1448_RNA2\"  \n",
       " [9] \"RegADM.shBrd4.1448_RNA3\"   \"Kras.ADR.shRen.713_RNA1\"  \n",
       "[11] \"Kras.ADR.shRen.713_RNA2\"   \"Kras.ADR.shRen.713_RNA3\"  \n",
       "[13] \"Kras.ADR.shBrd4.1448_RNA1\" \"Kras.ADR.shBrd4.1448_RNA2\"\n",
       "[15] \"Kras.ADR.shBrd4.1448_RNA3\""
      ]
     },
     "metadata": {},
     "output_type": "display_data"
    }
   ],
   "source": [
    "countdata <- subset(data, select=c(Normal.shRen.713_RNA1, \n",
    "                                   Normal.shRen.713_RNA2, \n",
    "                                   Normal.shRen.713_RNA3, \n",
    "                                   RegADM.shRen.713_RNA1, \n",
    "                                   RegADM.shRen.713_RNA2, \n",
    "                                   RegADM.shRen.713_RNA3,\n",
    "                                   RegADM.shBrd4.1448_RNA1, \n",
    "                                   RegADM.shBrd4.1448_RNA2, \n",
    "                                   RegADM.shBrd4.1448_RNA3,\n",
    "                                   Kras.ADR.shRen.713_RNA1, \n",
    "                                   Kras.ADR.shRen.713_RNA2, \n",
    "                                   Kras.ADR.shRen.713_RNA3, \n",
    "                                   Kras.ADR.shBrd4.1448_RNA1, \n",
    "                                   Kras.ADR.shBrd4.1448_RNA2, \n",
    "                                   Kras.ADR.shBrd4.1448_RNA3))\n",
    "#                                    Kras.ADR.shBrd4.552_RNA1, \n",
    "#                                    Kras.ADR.shBrd4.552_RNA2, \n",
    "#                                    Kras.ADR.shBrd4.552_RNA3))\n",
    "head(countdata)\n",
    "names(countdata)"
   ]
  },
  {
   "cell_type": "code",
   "execution_count": 7,
   "id": "ef20465a",
   "metadata": {},
   "outputs": [
    {
     "data": {
      "text/html": [
       "<style>\n",
       ".list-inline {list-style: none; margin:0; padding: 0}\n",
       ".list-inline>li {display: inline-block}\n",
       ".list-inline>li:not(:last-child)::after {content: \"\\00b7\"; padding: 0 .5ex}\n",
       "</style>\n",
       "<ol class=list-inline><li>'Normal_CshRen_713_RNA1'</li><li>'Normal_CshRen_713_RNA2'</li><li>'Normal_CshRen_713_RNA3'</li><li>'Injury_CshRen_713_RNA1'</li><li>'Injury_CshRen_713_RNA2'</li><li>'Injury_CshRen_713_RNA3'</li><li>'Injury_CshBrd4_1448_RNA1'</li><li>'Injury_CshBrd4_1448_RNA2'</li><li>'Injury_CshBrd4_1448_RNA3'</li><li>'KrasInjury_KCshRen_713_RNA1'</li><li>'KrasInjury_KCshRen_713_RNA2'</li><li>'KrasInjury_KCshRen_713_RNA3'</li><li>'KrasInjury_KCshBrd4_1448_RNA1'</li><li>'KrasInjury_KCshBrd4_1448_RNA2'</li><li>'KrasInjury_KCshBrd4_1448_RNA3'</li></ol>\n"
      ],
      "text/latex": [
       "\\begin{enumerate*}\n",
       "\\item 'Normal\\_CshRen\\_713\\_RNA1'\n",
       "\\item 'Normal\\_CshRen\\_713\\_RNA2'\n",
       "\\item 'Normal\\_CshRen\\_713\\_RNA3'\n",
       "\\item 'Injury\\_CshRen\\_713\\_RNA1'\n",
       "\\item 'Injury\\_CshRen\\_713\\_RNA2'\n",
       "\\item 'Injury\\_CshRen\\_713\\_RNA3'\n",
       "\\item 'Injury\\_CshBrd4\\_1448\\_RNA1'\n",
       "\\item 'Injury\\_CshBrd4\\_1448\\_RNA2'\n",
       "\\item 'Injury\\_CshBrd4\\_1448\\_RNA3'\n",
       "\\item 'KrasInjury\\_KCshRen\\_713\\_RNA1'\n",
       "\\item 'KrasInjury\\_KCshRen\\_713\\_RNA2'\n",
       "\\item 'KrasInjury\\_KCshRen\\_713\\_RNA3'\n",
       "\\item 'KrasInjury\\_KCshBrd4\\_1448\\_RNA1'\n",
       "\\item 'KrasInjury\\_KCshBrd4\\_1448\\_RNA2'\n",
       "\\item 'KrasInjury\\_KCshBrd4\\_1448\\_RNA3'\n",
       "\\end{enumerate*}\n"
      ],
      "text/markdown": [
       "1. 'Normal_CshRen_713_RNA1'\n",
       "2. 'Normal_CshRen_713_RNA2'\n",
       "3. 'Normal_CshRen_713_RNA3'\n",
       "4. 'Injury_CshRen_713_RNA1'\n",
       "5. 'Injury_CshRen_713_RNA2'\n",
       "6. 'Injury_CshRen_713_RNA3'\n",
       "7. 'Injury_CshBrd4_1448_RNA1'\n",
       "8. 'Injury_CshBrd4_1448_RNA2'\n",
       "9. 'Injury_CshBrd4_1448_RNA3'\n",
       "10. 'KrasInjury_KCshRen_713_RNA1'\n",
       "11. 'KrasInjury_KCshRen_713_RNA2'\n",
       "12. 'KrasInjury_KCshRen_713_RNA3'\n",
       "13. 'KrasInjury_KCshBrd4_1448_RNA1'\n",
       "14. 'KrasInjury_KCshBrd4_1448_RNA2'\n",
       "15. 'KrasInjury_KCshBrd4_1448_RNA3'\n",
       "\n",
       "\n"
      ],
      "text/plain": [
       " [1] \"Normal_CshRen_713_RNA1\"        \"Normal_CshRen_713_RNA2\"       \n",
       " [3] \"Normal_CshRen_713_RNA3\"        \"Injury_CshRen_713_RNA1\"       \n",
       " [5] \"Injury_CshRen_713_RNA2\"        \"Injury_CshRen_713_RNA3\"       \n",
       " [7] \"Injury_CshBrd4_1448_RNA1\"      \"Injury_CshBrd4_1448_RNA2\"     \n",
       " [9] \"Injury_CshBrd4_1448_RNA3\"      \"KrasInjury_KCshRen_713_RNA1\"  \n",
       "[11] \"KrasInjury_KCshRen_713_RNA2\"   \"KrasInjury_KCshRen_713_RNA3\"  \n",
       "[13] \"KrasInjury_KCshBrd4_1448_RNA1\" \"KrasInjury_KCshBrd4_1448_RNA2\"\n",
       "[15] \"KrasInjury_KCshBrd4_1448_RNA3\""
      ]
     },
     "metadata": {},
     "output_type": "display_data"
    }
   ],
   "source": [
    "# re-naming due to avoid invalid naming \n",
    "names(countdata)[names(countdata) == 'Normal.shRen.713_RNA1'] <- \"Normal_CshRen_713_RNA1\"\n",
    "names(countdata)[names(countdata) == 'Normal.shRen.713_RNA2'] <- \"Normal_CshRen_713_RNA2\" \n",
    "names(countdata)[names(countdata) == 'Normal.shRen.713_RNA3'] <- \"Normal_CshRen_713_RNA3\"\n",
    "names(countdata)[names(countdata) == 'RegADM.shRen.713_RNA1'] <- \"Injury_CshRen_713_RNA1\"\n",
    "names(countdata)[names(countdata) == 'RegADM.shRen.713_RNA2'] <- \"Injury_CshRen_713_RNA2\"\n",
    "names(countdata)[names(countdata) == 'RegADM.shRen.713_RNA3'] <- \"Injury_CshRen_713_RNA3\"\n",
    "names(countdata)[names(countdata) == 'RegADM.shBrd4.1448_RNA1'] <- \"Injury_CshBrd4_1448_RNA1\"\n",
    "names(countdata)[names(countdata) == 'RegADM.shBrd4.1448_RNA2'] <- \"Injury_CshBrd4_1448_RNA2\"\n",
    "names(countdata)[names(countdata) == 'RegADM.shBrd4.1448_RNA3'] <- \"Injury_CshBrd4_1448_RNA3\"\n",
    "names(countdata)[names(countdata) == 'Kras.ADR.shRen.713_RNA1'] <- \"KrasInjury_KCshRen_713_RNA1\"\n",
    "names(countdata)[names(countdata) == 'Kras.ADR.shRen.713_RNA2'] <- \"KrasInjury_KCshRen_713_RNA2\"\n",
    "names(countdata)[names(countdata) == 'Kras.ADR.shRen.713_RNA3'] <- \"KrasInjury_KCshRen_713_RNA3\"\n",
    "names(countdata)[names(countdata) == 'Kras.ADR.shBrd4.1448_RNA1'] <- \"KrasInjury_KCshBrd4_1448_RNA1\"\n",
    "names(countdata)[names(countdata) == 'Kras.ADR.shBrd4.1448_RNA2'] <- \"KrasInjury_KCshBrd4_1448_RNA2\"\n",
    "names(countdata)[names(countdata) == 'Kras.ADR.shBrd4.1448_RNA3'] <- \"KrasInjury_KCshBrd4_1448_RNA3\"\n",
    "# names(countdata)[names(countdata) == \"Kras.ADR.shBrd4.552_RNA1\"] <- \"KrasInjury_KCshBrd4_552_RNA1\"\n",
    "# names(countdata)[names(countdata) == \"Kras.ADR.shBrd4.552_RNA2\"] <- \"KrasInjury_KCshBrd4_552_RNA2\"\n",
    "# names(countdata)[names(countdata) == \"Kras.ADR.shBrd4.552_RNA3\"] <- \"KrasInjury_KCshBrd4_552_RNA3\"\n",
    "\n",
    "names(countdata)"
   ]
  },
  {
   "cell_type": "code",
   "execution_count": 8,
   "id": "6815871d",
   "metadata": {},
   "outputs": [],
   "source": [
    "cts <- as.matrix(countdata)\n",
    "conditions <- c(rep(\"Normal_CshRen\", 3),\n",
    "                rep(\"Injury_CshRen\", 3),\n",
    "                rep(\"Injury_CshBrd4\", 3),\n",
    "                rep(\"KrasInjury_CshRen\", 3),\n",
    "                rep(\"KrasInjury_CshBrd4\", 3))\n",
    "#                rep(\"KrasInjury_CshBrd4_552\", 3))\n",
    "\n",
    "samples <- data.frame(\"run\"=c(\"Normal_CshRen_713_RNA1\", \n",
    "                              \"Normal_CshRen_713_RNA2\", \n",
    "                              \"Normal_CshRen_713_RNA3\", \n",
    "                              \"Injury_CshRen_713_RNA1\", \n",
    "                              \"Injury_CshRen_713_RNA2\", \n",
    "                              \"Injury_CshRen_713_RNA3\",\n",
    "                              \"Injury_CshBrd4_1448_RNA1\", \n",
    "                              \"Injury_CshBrd4_1448_RNA2\", \n",
    "                              \"Injury_CshBrd4_1448_RNA3\", \n",
    "                              \"KrasInjury_KCshRen_713_RNA1\", \n",
    "                              \"KrasInjury_KCshRen_713_RNA2\", \n",
    "                              \"KrasInjury_KCshRen_713_RNA3\",\n",
    "                              \"KrasInjury_KCshBrd4_1448_RNA1\", \n",
    "                              \"KrasInjury_KCshBrd4_1448_RNA2\", \n",
    "                              \"KrasInjury_KCshBrd4_1448_RNA3\"),\n",
    "#                               \"KrasInjury_KCshBrd4_552_RNA1\",\n",
    "#                               \"KrasInjury_KCshBrd4_552_RNA2\",\n",
    "#                               \"KrasInjury_KCshBrd4_552_RNA3\"),                      \n",
    "                      \"condition\"=conditions)"
   ]
  },
  {
   "cell_type": "markdown",
   "id": "d06fd85e",
   "metadata": {},
   "source": [
    "## DESeq2"
   ]
  },
  {
   "cell_type": "code",
   "execution_count": 9,
   "id": "876f1399",
   "metadata": {},
   "outputs": [
    {
     "name": "stderr",
     "output_type": "stream",
     "text": [
      "Warning message in DESeqDataSet(se, design = design, ignoreRank):\n",
      "“some variables in design formula are characters, converting to factors”\n",
      "estimating size factors\n",
      "\n",
      "estimating dispersions\n",
      "\n",
      "gene-wise dispersion estimates\n",
      "\n",
      "mean-dispersion relationship\n",
      "\n",
      "final dispersion estimates\n",
      "\n",
      "fitting model and testing\n",
      "\n"
     ]
    },
    {
     "data": {
      "text/plain": [
       "class: DESeqDataSet \n",
       "dim: 53465 15 \n",
       "metadata(1): version\n",
       "assays(4): counts mu H cooks\n",
       "rownames(53465): ENSMUSG00000000001 ENSMUSG00000000003 ...\n",
       "  ENSMUSG00000115849 ENSMUSG00000115850\n",
       "rowData names(34): baseMean baseVar ... deviance maxCooks\n",
       "colnames(15): Normal_CshRen_713_RNA1 Normal_CshRen_713_RNA2 ...\n",
       "  KrasInjury_KCshBrd4_1448_RNA2 KrasInjury_KCshBrd4_1448_RNA3\n",
       "colData names(3): run condition sizeFactor"
      ]
     },
     "metadata": {},
     "output_type": "display_data"
    }
   ],
   "source": [
    "dds <- DESeqDataSetFromMatrix(countData = cts, \n",
    "                              colData = samples, \n",
    "                              design = ~condition)\n",
    "\n",
    "# minimum filtering, remove count that is too low\n",
    "# keep <- rowSums(counts(dds)) > 10\n",
    "# dds <- dds[keep,]\n",
    "\n",
    "dds <- DESeq(dds)\n",
    "dds"
   ]
  },
  {
   "cell_type": "code",
   "execution_count": 10,
   "id": "0c66d59f",
   "metadata": {},
   "outputs": [
    {
     "data": {
      "text/plain": [
       "log2 fold change (MLE): condition Normal CshRen vs Injury CshBrd4 \n",
       "Wald test p-value: condition Normal CshRen vs Injury CshBrd4 \n",
       "DataFrame with 53465 rows and 6 columns\n",
       "                     baseMean log2FoldChange     lfcSE      stat      pvalue\n",
       "                    <numeric>      <numeric> <numeric> <numeric>   <numeric>\n",
       "ENSMUSG00000000001 1713.04162      -0.537286  0.136285  -3.94236 8.06823e-05\n",
       "ENSMUSG00000000003    0.00000             NA        NA        NA          NA\n",
       "ENSMUSG00000000028   63.48636      -1.881720  0.592770  -3.17445 1.50120e-03\n",
       "ENSMUSG00000000031 1381.89049      -3.517104  0.872193  -4.03248 5.51910e-05\n",
       "ENSMUSG00000000037    4.15222      -2.398511  1.431110  -1.67598 9.37423e-02\n",
       "...                       ...            ...       ...       ...         ...\n",
       "ENSMUSG00000115846  0.0923942        1.36180   4.85661  0.280402    0.779169\n",
       "ENSMUSG00000115847  0.0000000             NA        NA        NA          NA\n",
       "ENSMUSG00000115848  0.8295112        2.32355   3.89454  0.596619    0.550762\n",
       "ENSMUSG00000115849  0.0269898        1.36181   4.85661  0.280404    0.779167\n",
       "ENSMUSG00000115850  0.0000000             NA        NA        NA          NA\n",
       "                          padj\n",
       "                     <numeric>\n",
       "ENSMUSG00000000001 0.000387259\n",
       "ENSMUSG00000000003          NA\n",
       "ENSMUSG00000000028 0.005260333\n",
       "ENSMUSG00000000031 0.000274395\n",
       "ENSMUSG00000000037 0.173577446\n",
       "...                        ...\n",
       "ENSMUSG00000115846          NA\n",
       "ENSMUSG00000115847          NA\n",
       "ENSMUSG00000115848          NA\n",
       "ENSMUSG00000115849          NA\n",
       "ENSMUSG00000115850          NA"
      ]
     },
     "metadata": {},
     "output_type": "display_data"
    }
   ],
   "source": [
    "results(dds)"
   ]
  },
  {
   "cell_type": "markdown",
   "id": "a762ec42",
   "metadata": {},
   "source": [
    "## Select for DEGs"
   ]
  },
  {
   "cell_type": "markdown",
   "id": "d9034afa",
   "metadata": {},
   "source": [
    "### From Methods\n",
    "- Differentially expressed genes (DEGs) were determined by a greater-than twofold change in gene expression with adjusted P value < 0.05. \n",
    ">- greater than twofold change means abs(log2fold) > 1\n",
    "\n",
    "### From Statistic and Reproducibility\n",
    "- In RNA-seq data, significance for differential gene expression between groups was based on adjusted P value < 0.05. "
   ]
  },
  {
   "cell_type": "code",
   "execution_count": 11,
   "id": "f8c7c0cf",
   "metadata": {},
   "outputs": [],
   "source": [
    "# Normal_CshRen v.s. Injury_CshRen\n",
    "res1 <- results(dds, contrast=c(\"condition\",\n",
    "                                \"Normal_CshRen\",\n",
    "                                \"Injury_CshRen\"))\n",
    "# Normal_CshRen v.s. Kras*+Injury_CshRen\n",
    "res2 <- results(dds, contrast=c(\"condition\",\n",
    "                                \"Normal_CshRen\",\n",
    "                                \"KrasInjury_CshRen\"))\n",
    "# Normal_CshRen v.s. Injury_CshBrd4\n",
    "res3 <- results(dds, contrast=c(\"condition\",\n",
    "                                \"Normal_CshRen\",\n",
    "                                \"Injury_CshBrd4\"))\n",
    "# Normal_CshRen v.s. Kras*+Injury_CshBrd4\n",
    "res4 <- results(dds, contrast=c(\"condition\",\n",
    "                                \"Normal_CshRen\",\n",
    "                                \"KrasInjury_CshBrd4\"))"
   ]
  },
  {
   "cell_type": "code",
   "execution_count": 12,
   "id": "8e19adc0",
   "metadata": {},
   "outputs": [],
   "source": [
    "sigGenes <- unique(c(\n",
    "  rownames(subset(res1, padj < 0.05 & abs(log2FoldChange) > 1)),\n",
    "  rownames(subset(res2, padj < 0.05 & abs(log2FoldChange) > 1)),\n",
    "  rownames(subset(res3, padj < 0.05 & abs(log2FoldChange) > 1)),\n",
    "  rownames(subset(res4, padj < 0.05 & abs(log2FoldChange) > 1))\n",
    "))"
   ]
  },
  {
   "cell_type": "code",
   "execution_count": 13,
   "id": "7f776219",
   "metadata": {},
   "outputs": [
    {
     "data": {
      "text/plain": [
       "class: DESeqDataSet \n",
       "dim: 10634 15 \n",
       "metadata(1): version\n",
       "assays(4): counts mu H cooks\n",
       "rownames(10634): ENSMUSG00000000028 ENSMUSG00000000215 ...\n",
       "  ENSMUSG00000115736 ENSMUSG00000115813\n",
       "rowData names(34): baseMean baseVar ... deviance maxCooks\n",
       "colnames(15): Normal_CshRen_713_RNA1 Normal_CshRen_713_RNA2 ...\n",
       "  KrasInjury_KCshBrd4_1448_RNA2 KrasInjury_KCshBrd4_1448_RNA3\n",
       "colData names(3): run condition sizeFactor"
      ]
     },
     "metadata": {},
     "output_type": "display_data"
    }
   ],
   "source": [
    "dds <- dds[sigGenes,]\n",
    "dds"
   ]
  },
  {
   "cell_type": "markdown",
   "id": "54cc4be8",
   "metadata": {},
   "source": [
    "## Select for Downregulated DEGs After Suppression of BRD4"
   ]
  },
  {
   "cell_type": "markdown",
   "id": "41723b6a",
   "metadata": {},
   "source": [
    "### From Extended Data Table 4 \n",
    "- The comparison is only made between `Injury_CshBrd4 v.s. Injury_CshRen` and `Kras*+Injury_CshBrd4 v.s. Kras*+Injury_CshRen`\n",
    "\n",
    "### From Figure Caption\n",
    "- the DEG displayed later in heatmap is \"__downregulated DEGs__ after suppression of BRD4 in regenerative metaplasia (Csh: injury) or neoplastic transformation (KCsh: Kras* + injury) settings across the indicated conditions\""
   ]
  },
  {
   "cell_type": "code",
   "execution_count": 14,
   "id": "25c4ed75",
   "metadata": {},
   "outputs": [],
   "source": [
    "# Injury_CshBrd4 v.s. Injury_CshRen\n",
    "res_Injury = results(dds, contrast=c(\"condition\", \n",
    "                                     \"Injury_CshBrd4\",\n",
    "                                     \"Injury_CshRen\"))"
   ]
  },
  {
   "cell_type": "code",
   "execution_count": 15,
   "id": "b14b669e",
   "metadata": {},
   "outputs": [],
   "source": [
    "DownInjury <- as.data.frame(subset(res_Injury, padj < 0.05 & log2FoldChange < -1))"
   ]
  },
  {
   "cell_type": "code",
   "execution_count": 16,
   "id": "3c6c52ea",
   "metadata": {},
   "outputs": [],
   "source": [
    "# Kras*+Injury_CshBrd4 v.s. Kras*+Injury_CshRen\n",
    "res_KInjury = results(dds, contrast=c(\"condition\",\n",
    "                                      \"KrasInjury_CshBrd4\",\n",
    "                                      \"KrasInjury_CshRen\"))"
   ]
  },
  {
   "cell_type": "code",
   "execution_count": 17,
   "id": "d7699a77",
   "metadata": {},
   "outputs": [],
   "source": [
    "DownKInjury <- as.data.frame(subset(res_KInjury, padj < 0.05 & log2FoldChange < -1))"
   ]
  },
  {
   "cell_type": "code",
   "execution_count": 18,
   "id": "a3cd31ee",
   "metadata": {},
   "outputs": [
    {
     "data": {
      "text/html": [
       "1804"
      ],
      "text/latex": [
       "1804"
      ],
      "text/markdown": [
       "1804"
      ],
      "text/plain": [
       "[1] 1804"
      ]
     },
     "metadata": {},
     "output_type": "display_data"
    }
   ],
   "source": [
    "# select for significant genes, which based on information above, \n",
    "# should be genes with padj < 0.05 and log2foldchange < -1\n",
    "sigDownDEGs <- unique(c(\n",
    "  rownames(subset(res_Injury, padj < 0.05 & log2FoldChange < -1)),\n",
    "  rownames(subset(res_KInjury, padj < 0.05 & log2FoldChange < -1))\n",
    "))\n",
    "length(sigDownDEGs)"
   ]
  },
  {
   "cell_type": "code",
   "execution_count": 19,
   "id": "aa47d4cb",
   "metadata": {},
   "outputs": [],
   "source": [
    "DownDEGs <- assay(dds)[sigDownDEGs,]"
   ]
  },
  {
   "cell_type": "markdown",
   "id": "86627563",
   "metadata": {},
   "source": [
    "### Order the result"
   ]
  },
  {
   "cell_type": "code",
   "execution_count": 20,
   "id": "3b9b9eb9",
   "metadata": {},
   "outputs": [
    {
     "data": {
      "text/html": [
       "274"
      ],
      "text/latex": [
       "274"
      ],
      "text/markdown": [
       "274"
      ],
      "text/plain": [
       "[1] 274"
      ]
     },
     "metadata": {},
     "output_type": "display_data"
    },
    {
     "data": {
      "text/html": [
       "1064"
      ],
      "text/latex": [
       "1064"
      ],
      "text/markdown": [
       "1064"
      ],
      "text/plain": [
       "[1] 1064"
      ]
     },
     "metadata": {},
     "output_type": "display_data"
    },
    {
     "data": {
      "text/html": [
       "466"
      ],
      "text/latex": [
       "466"
      ],
      "text/markdown": [
       "466"
      ],
      "text/plain": [
       "[1] 466"
      ]
     },
     "metadata": {},
     "output_type": "display_data"
    },
    {
     "data": {
      "text/html": [
       "1804"
      ],
      "text/latex": [
       "1804"
      ],
      "text/markdown": [
       "1804"
      ],
      "text/plain": [
       "[1] 1804"
      ]
     },
     "metadata": {},
     "output_type": "display_data"
    }
   ],
   "source": [
    "DownCommon <- intersect(rownames(DownInjury),\n",
    "                        rownames(DownKInjury))\n",
    "length(DownCommon)\n",
    "\n",
    "DownRegenerative <- setdiff(rownames(DownInjury), DownCommon)\n",
    "length(DownRegenerative)\n",
    "\n",
    "DownNeoplasia <- setdiff(rownames(DownKInjury), DownCommon)\n",
    "length(DownNeoplasia)\n",
    "\n",
    "DownOrder <- c(DownRegenerative, DownCommon, DownNeoplasia)\n",
    "length(DownOrder)"
   ]
  },
  {
   "cell_type": "markdown",
   "id": "f7e62ca9",
   "metadata": {},
   "source": [
    "## Visualization using pheatmap\n",
    ">- For heat map visualization of DEGs, samples were z-score normalized and plotted using the ‘pheatmap’ package in R."
   ]
  },
  {
   "cell_type": "code",
   "execution_count": 21,
   "id": "7c413b8e",
   "metadata": {},
   "outputs": [],
   "source": [
    "OrderDownDEGs <- assay(rlog(dds, blind = FALSE))[DownOrder,]"
   ]
  },
  {
   "cell_type": "code",
   "execution_count": 22,
   "id": "8a9ff301",
   "metadata": {},
   "outputs": [
    {
     "data": {
      "image/png": "[encoded data removed]",
      "text/plain": [
       "plot without title"
      ]
     },
     "metadata": {
      "image/png": {
       "height": 300,
       "width": 720
      }
     },
     "output_type": "display_data"
    }
   ],
   "source": [
    "# Change Jupyter plot size\n",
    "options(repr.plot.width=12, repr.plot.height=5)\n",
    "\n",
    "normalizedOrderDownDEGs <- scale(t(OrderDownDEGs))\n",
    "#sample CshBrd4_552 is not displayed\n",
    "#normalizedDownDEGs <- normalizedDownDEGs[-c(16, 17, 18),]\n",
    "\n",
    "annotation <- data.frame(gene_id = colnames(normalizedOrderDownDEGs),\n",
    "                         type = \"\")\n",
    "annotation[1:length(DownRegenerative), 2] <- \"Regenerative Specific\"\n",
    "annotation[length(DownRegenerative) + 1:length(DownCommon), 2] <- \"Common\"\n",
    "annotation[length(DownRegenerative) + length(DownCommon) + 1:length(DownNeoplasia), 2] <- \"Neoplasia Specific\"\n",
    "\n",
    "row.names(annotation) <- annotation$gene_id\n",
    "annotation <- subset(annotation, select=-c(gene_id))\n",
    "\n",
    "annotation_col <- annotation\n",
    "\n",
    "pheatmap(normalizedOrderDownDEGs, \n",
    "         color=colorRampPalette(c(\"#85C1E9\", \"white\", \"#FF5757\"))(17),\n",
    "         annotation_col=annotation_col,\n",
    "         cluster_rows=FALSE,\n",
    "         cluster_cols=FALSE,\n",
    "         treeheight_col=0,\n",
    "         show_colnames=FALSE)"
   ]
  },
  {
   "cell_type": "code",
   "execution_count": null,
   "id": "5da6ae6f",
   "metadata": {},
   "outputs": [],
   "source": []
  }
 ],
 "metadata": {
  "kernelspec": {
   "display_name": "R",
   "language": "R",
   "name": "ir"
  },
  "language_info": {
   "codemirror_mode": "r",
   "file_extension": ".r",
   "mimetype": "text/x-r-source",
   "name": "R",
   "pygments_lexer": "r",
   "version": "4.1.0"
  }
 },
 "nbformat": 4,
 "nbformat_minor": 5
}
